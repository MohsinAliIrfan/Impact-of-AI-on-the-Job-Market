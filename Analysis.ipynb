{
 "cells": [
  {
   "cell_type": "code",
   "execution_count": 2,
   "metadata": {},
   "outputs": [],
   "source": [
    "import pandas as pd"
   ]
  },
  {
   "cell_type": "code",
   "execution_count": 3,
   "metadata": {},
   "outputs": [
    {
     "data": {
      "text/html": [
       "<div>\n",
       "<style scoped>\n",
       "    .dataframe tbody tr th:only-of-type {\n",
       "        vertical-align: middle;\n",
       "    }\n",
       "\n",
       "    .dataframe tbody tr th {\n",
       "        vertical-align: top;\n",
       "    }\n",
       "\n",
       "    .dataframe thead th {\n",
       "        text-align: right;\n",
       "    }\n",
       "</style>\n",
       "<table border=\"1\" class=\"dataframe\">\n",
       "  <thead>\n",
       "    <tr style=\"text-align: right;\">\n",
       "      <th></th>\n",
       "      <th>Job titiles</th>\n",
       "      <th>AI Impact</th>\n",
       "      <th>Tasks</th>\n",
       "      <th>AI models</th>\n",
       "      <th>AI_Workload_Ratio</th>\n",
       "      <th>Domain</th>\n",
       "    </tr>\n",
       "  </thead>\n",
       "  <tbody>\n",
       "    <tr>\n",
       "      <th>0</th>\n",
       "      <td>Communications Manager</td>\n",
       "      <td>98%</td>\n",
       "      <td>365</td>\n",
       "      <td>2546</td>\n",
       "      <td>0.143362</td>\n",
       "      <td>Communication &amp; PR</td>\n",
       "    </tr>\n",
       "    <tr>\n",
       "      <th>1</th>\n",
       "      <td>Data Collector</td>\n",
       "      <td>95%</td>\n",
       "      <td>299</td>\n",
       "      <td>2148</td>\n",
       "      <td>0.139199</td>\n",
       "      <td>Data &amp; IT</td>\n",
       "    </tr>\n",
       "    <tr>\n",
       "      <th>2</th>\n",
       "      <td>Data Entry</td>\n",
       "      <td>95%</td>\n",
       "      <td>325</td>\n",
       "      <td>2278</td>\n",
       "      <td>0.142669</td>\n",
       "      <td>Administrative &amp; Clerical</td>\n",
       "    </tr>\n",
       "    <tr>\n",
       "      <th>3</th>\n",
       "      <td>Mail Clerk</td>\n",
       "      <td>95%</td>\n",
       "      <td>193</td>\n",
       "      <td>1366</td>\n",
       "      <td>0.141288</td>\n",
       "      <td>Leadership &amp; Strategy</td>\n",
       "    </tr>\n",
       "    <tr>\n",
       "      <th>4</th>\n",
       "      <td>Compliance Officer</td>\n",
       "      <td>92%</td>\n",
       "      <td>194</td>\n",
       "      <td>1369</td>\n",
       "      <td>0.141709</td>\n",
       "      <td>Medical &amp; Healthcare</td>\n",
       "    </tr>\n",
       "    <tr>\n",
       "      <th>5</th>\n",
       "      <td>Chief Executive Officer (CEO)</td>\n",
       "      <td>91%</td>\n",
       "      <td>153</td>\n",
       "      <td>1135</td>\n",
       "      <td>0.134802</td>\n",
       "      <td>Supply Chain &amp; Logistics</td>\n",
       "    </tr>\n",
       "    <tr>\n",
       "      <th>6</th>\n",
       "      <td>Therapist</td>\n",
       "      <td>90%</td>\n",
       "      <td>114</td>\n",
       "      <td>983</td>\n",
       "      <td>0.115972</td>\n",
       "      <td>Law Enforcement</td>\n",
       "    </tr>\n",
       "    <tr>\n",
       "      <th>7</th>\n",
       "      <td>Chief Strategy Officer</td>\n",
       "      <td>90%</td>\n",
       "      <td>184</td>\n",
       "      <td>1284</td>\n",
       "      <td>0.143302</td>\n",
       "      <td>Construction</td>\n",
       "    </tr>\n",
       "    <tr>\n",
       "      <th>8</th>\n",
       "      <td>Admin</td>\n",
       "      <td>90%</td>\n",
       "      <td>253</td>\n",
       "      <td>2014</td>\n",
       "      <td>0.125621</td>\n",
       "      <td>Sales &amp; Marketing</td>\n",
       "    </tr>\n",
       "    <tr>\n",
       "      <th>9</th>\n",
       "      <td>General Clerk</td>\n",
       "      <td>90%</td>\n",
       "      <td>242</td>\n",
       "      <td>1903</td>\n",
       "      <td>0.127168</td>\n",
       "      <td>Hospitality</td>\n",
       "    </tr>\n",
       "  </tbody>\n",
       "</table>\n",
       "</div>"
      ],
      "text/plain": [
       "                     Job titiles AI Impact  Tasks  AI models  \\\n",
       "0         Communications Manager       98%    365       2546   \n",
       "1                 Data Collector       95%    299       2148   \n",
       "2                     Data Entry       95%    325       2278   \n",
       "3                     Mail Clerk       95%    193       1366   \n",
       "4             Compliance Officer       92%    194       1369   \n",
       "5  Chief Executive Officer (CEO)       91%    153       1135   \n",
       "6                      Therapist       90%    114        983   \n",
       "7         Chief Strategy Officer       90%    184       1284   \n",
       "8                          Admin       90%    253       2014   \n",
       "9                  General Clerk       90%    242       1903   \n",
       "\n",
       "   AI_Workload_Ratio                     Domain  \n",
       "0           0.143362         Communication & PR  \n",
       "1           0.139199                  Data & IT  \n",
       "2           0.142669  Administrative & Clerical  \n",
       "3           0.141288      Leadership & Strategy  \n",
       "4           0.141709       Medical & Healthcare  \n",
       "5           0.134802   Supply Chain & Logistics  \n",
       "6           0.115972            Law Enforcement  \n",
       "7           0.143302               Construction  \n",
       "8           0.125621          Sales & Marketing  \n",
       "9           0.127168                Hospitality  "
      ]
     },
     "execution_count": 3,
     "metadata": {},
     "output_type": "execute_result"
    }
   ],
   "source": [
    "df = pd.read_csv(\"My_Data.csv\")\n",
    "df.head(10)"
   ]
  },
  {
   "cell_type": "code",
   "execution_count": 8,
   "metadata": {},
   "outputs": [
    {
     "data": {
      "text/html": [
       "<div>\n",
       "<style scoped>\n",
       "    .dataframe tbody tr th:only-of-type {\n",
       "        vertical-align: middle;\n",
       "    }\n",
       "\n",
       "    .dataframe tbody tr th {\n",
       "        vertical-align: top;\n",
       "    }\n",
       "\n",
       "    .dataframe thead th {\n",
       "        text-align: right;\n",
       "    }\n",
       "</style>\n",
       "<table border=\"1\" class=\"dataframe\">\n",
       "  <thead>\n",
       "    <tr style=\"text-align: right;\">\n",
       "      <th></th>\n",
       "      <th>Tasks</th>\n",
       "      <th>AI models</th>\n",
       "      <th>AI_Workload_Ratio</th>\n",
       "    </tr>\n",
       "  </thead>\n",
       "  <tbody>\n",
       "    <tr>\n",
       "      <th>count</th>\n",
       "      <td>4706.000000</td>\n",
       "      <td>4706.000000</td>\n",
       "      <td>4706.000000</td>\n",
       "    </tr>\n",
       "    <tr>\n",
       "      <th>mean</th>\n",
       "      <td>400.708032</td>\n",
       "      <td>1817.678071</td>\n",
       "      <td>inf</td>\n",
       "    </tr>\n",
       "    <tr>\n",
       "      <th>std</th>\n",
       "      <td>311.564781</td>\n",
       "      <td>1086.853037</td>\n",
       "      <td>NaN</td>\n",
       "    </tr>\n",
       "    <tr>\n",
       "      <th>min</th>\n",
       "      <td>1.000000</td>\n",
       "      <td>0.000000</td>\n",
       "      <td>0.036585</td>\n",
       "    </tr>\n",
       "    <tr>\n",
       "      <th>25%</th>\n",
       "      <td>161.000000</td>\n",
       "      <td>1085.250000</td>\n",
       "      <td>0.137271</td>\n",
       "    </tr>\n",
       "    <tr>\n",
       "      <th>50%</th>\n",
       "      <td>270.000000</td>\n",
       "      <td>1577.500000</td>\n",
       "      <td>0.199281</td>\n",
       "    </tr>\n",
       "    <tr>\n",
       "      <th>75%</th>\n",
       "      <td>608.750000</td>\n",
       "      <td>2273.000000</td>\n",
       "      <td>0.260572</td>\n",
       "    </tr>\n",
       "    <tr>\n",
       "      <th>max</th>\n",
       "      <td>1387.000000</td>\n",
       "      <td>5666.000000</td>\n",
       "      <td>inf</td>\n",
       "    </tr>\n",
       "  </tbody>\n",
       "</table>\n",
       "</div>"
      ],
      "text/plain": [
       "             Tasks    AI models  AI_Workload_Ratio\n",
       "count  4706.000000  4706.000000        4706.000000\n",
       "mean    400.708032  1817.678071                inf\n",
       "std     311.564781  1086.853037                NaN\n",
       "min       1.000000     0.000000           0.036585\n",
       "25%     161.000000  1085.250000           0.137271\n",
       "50%     270.000000  1577.500000           0.199281\n",
       "75%     608.750000  2273.000000           0.260572\n",
       "max    1387.000000  5666.000000                inf"
      ]
     },
     "execution_count": 8,
     "metadata": {},
     "output_type": "execute_result"
    }
   ],
   "source": [
    "df.describe()\n",
    "#The inf here describes infinity which is wrong so lets figure out an solution"
   ]
  },
  {
   "cell_type": "code",
   "execution_count": 28,
   "metadata": {},
   "outputs": [
    {
     "data": {
      "text/plain": [
       "7"
      ]
     },
     "execution_count": 28,
     "metadata": {},
     "output_type": "execute_result"
    }
   ],
   "source": [
    "inf_values = (df['AI_Workload_Ratio'] == float('inf')).sum()\n",
    "inf_values\n",
    "\n",
    "#as we have got 7 inf values so we need to either remove them or replace them\n",
    "#we will replace those values because we do not need to miss any job category "
   ]
  },
  {
   "cell_type": "code",
   "execution_count": 10,
   "metadata": {},
   "outputs": [
    {
     "data": {
      "text/plain": [
       "Job titiles          0\n",
       "AI Impact            0\n",
       "Tasks                0\n",
       "AI models            0\n",
       "AI_Workload_Ratio    0\n",
       "Domain               0\n",
       "dtype: int64"
      ]
     },
     "execution_count": 10,
     "metadata": {},
     "output_type": "execute_result"
    }
   ],
   "source": [
    "df.isna().sum()\n",
    "#so we havent got any null values but we can see we have got a NaN but how many?"
   ]
  },
  {
   "cell_type": "code",
   "execution_count": 33,
   "metadata": {},
   "outputs": [
    {
     "name": "stdout",
     "output_type": "stream",
     "text": [
      "0.19928117492056105\n"
     ]
    },
    {
     "data": {
      "text/plain": [
       "0"
      ]
     },
     "execution_count": 33,
     "metadata": {},
     "output_type": "execute_result"
    }
   ],
   "source": [
    "#lets calcukate the median of the column and then replace the inf with the median\n",
    "median = df['AI_Workload_Ratio'].median()\n",
    "print(median)\n",
    "\n",
    "#lets replace it\n",
    "df['AI_Workload_Ratio'].replace(float('inf'), median, inplace=True)\n",
    "inf_values = (df['AI_Workload_Ratio'] == float('inf')).sum()\n",
    "inf_values\n",
    "\n",
    "#No inf left"
   ]
  },
  {
   "cell_type": "code",
   "execution_count": 37,
   "metadata": {},
   "outputs": [],
   "source": [
    "#Lets save the dataset to a new file\n",
    "df.to_excel(\"DataAfterPreprocessing.xlsx\")"
   ]
  },
  {
   "cell_type": "code",
   "execution_count": null,
   "metadata": {},
   "outputs": [],
   "source": []
  },
  {
   "cell_type": "code",
   "execution_count": null,
   "metadata": {},
   "outputs": [],
   "source": []
  },
  {
   "cell_type": "code",
   "execution_count": null,
   "metadata": {},
   "outputs": [],
   "source": []
  },
  {
   "cell_type": "code",
   "execution_count": null,
   "metadata": {},
   "outputs": [],
   "source": []
  },
  {
   "cell_type": "code",
   "execution_count": null,
   "metadata": {},
   "outputs": [],
   "source": []
  },
  {
   "cell_type": "code",
   "execution_count": null,
   "metadata": {},
   "outputs": [],
   "source": []
  },
  {
   "cell_type": "code",
   "execution_count": null,
   "metadata": {},
   "outputs": [],
   "source": []
  },
  {
   "cell_type": "code",
   "execution_count": null,
   "metadata": {},
   "outputs": [],
   "source": []
  },
  {
   "cell_type": "code",
   "execution_count": null,
   "metadata": {},
   "outputs": [],
   "source": []
  },
  {
   "cell_type": "code",
   "execution_count": null,
   "metadata": {},
   "outputs": [],
   "source": []
  }
 ],
 "metadata": {
  "kernelspec": {
   "display_name": "Python 3",
   "language": "python",
   "name": "python3"
  },
  "language_info": {
   "codemirror_mode": {
    "name": "ipython",
    "version": 3
   },
   "file_extension": ".py",
   "mimetype": "text/x-python",
   "name": "python",
   "nbconvert_exporter": "python",
   "pygments_lexer": "ipython3",
   "version": "3.10.6"
  }
 },
 "nbformat": 4,
 "nbformat_minor": 2
}
